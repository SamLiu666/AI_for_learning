{
 "cells": [
  {
   "cell_type": "code",
   "execution_count": 1,
   "id": "77ce8fde-d282-46d7-b3c1-8fa893631a9e",
   "metadata": {},
   "outputs": [],
   "source": [
    "import torch"
   ]
  },
  {
   "cell_type": "code",
   "execution_count": 5,
   "id": "85d90132-0f57-4597-851c-4f24c08f66f6",
   "metadata": {},
   "outputs": [
    {
     "data": {
      "text/plain": [
       "(tensor([[ 0.,  1.,  2.,  3.],\n",
       "         [ 4.,  5.,  6.,  7.],\n",
       "         [ 8.,  9., 10., 11.],\n",
       "         [12., 13., 14., 15.],\n",
       "         [16., 17., 18., 19.]]),\n",
       " torch.Size([5, 4]),\n",
       " tensor([[ 0.,  2.,  4.,  6.],\n",
       "         [ 8., 10., 12., 14.],\n",
       "         [16., 18., 20., 22.],\n",
       "         [24., 26., 28., 30.],\n",
       "         [32., 34., 36., 38.]]))"
      ]
     },
     "execution_count": 5,
     "metadata": {},
     "output_type": "execute_result"
    }
   ],
   "source": [
    "X = torch.arange(20, dtype=torch.float32).reshape(5,4)\n",
    "Y = X.clone()  # 克隆一个新矩阵\n",
    "Y += Y\n",
    "X, X.shape, Y"
   ]
  },
  {
   "cell_type": "markdown",
   "id": "ddb86116-e893-4e1e-bbe3-462ba73d4f01",
   "metadata": {},
   "source": [
    "矩阵乘法"
   ]
  },
  {
   "cell_type": "code",
   "execution_count": 24,
   "id": "2ff01713-e1b7-4681-94aa-71292c548968",
   "metadata": {},
   "outputs": [],
   "source": [
    "a = torch.arange(6).reshape((2,3))\n",
    "b = torch.ones((2,3))\n",
    "b *=2 \n",
    "c = a * b  # 矩阵元素相乘"
   ]
  },
  {
   "cell_type": "code",
   "execution_count": 25,
   "id": "89f545e8-4041-4938-b2f2-083a9b207548",
   "metadata": {},
   "outputs": [
    {
     "data": {
      "text/plain": [
       "(tensor([[0, 1, 2],\n",
       "         [3, 4, 5]]),\n",
       " tensor([[2., 2., 2.],\n",
       "         [2., 2., 2.]]),\n",
       " tensor([[ 0.,  2.,  4.],\n",
       "         [ 6.,  8., 10.]]))"
      ]
     },
     "execution_count": 25,
     "metadata": {},
     "output_type": "execute_result"
    }
   ],
   "source": [
    "a,b,c"
   ]
  },
  {
   "cell_type": "code",
   "execution_count": 26,
   "id": "78aaecea-7a68-4e43-9716-a843ac38adcb",
   "metadata": {},
   "outputs": [
    {
     "data": {
      "text/plain": [
       "(tensor(15), tensor(30.))"
      ]
     },
     "execution_count": 26,
     "metadata": {},
     "output_type": "execute_result"
    }
   ],
   "source": [
    "a.sum(), c.sum(),"
   ]
  },
  {
   "cell_type": "code",
   "execution_count": 28,
   "id": "e352bad3-2102-4a5c-b91c-7de767252d7b",
   "metadata": {},
   "outputs": [
    {
     "data": {
      "text/plain": [
       "(tensor([3, 5, 7]),\n",
       " tensor([ 6., 24.]),\n",
       " tensor([[0, 1, 2],\n",
       "         [3, 5, 7]]),\n",
       " tensor([[ 0,  1,  3],\n",
       "         [ 3,  7, 12]]))"
      ]
     },
     "execution_count": 28,
     "metadata": {},
     "output_type": "execute_result"
    }
   ],
   "source": [
    " a.sum(axis=0), c.sum(axis=1), a.cumsum(axis=0), a.cumsum(axis=1)"
   ]
  },
  {
   "cell_type": "code",
   "execution_count": 19,
   "id": "5962db3c-3de3-418e-9722-93fd296878c9",
   "metadata": {},
   "outputs": [],
   "source": [
    " suma = a.sum(axis=1, keepdims=True)  # 保持维度，广播机制"
   ]
  },
  {
   "cell_type": "code",
   "execution_count": 22,
   "id": "ccf3aa48-5f61-4a69-bb4e-cdf06df628b7",
   "metadata": {},
   "outputs": [
    {
     "data": {
      "text/plain": [
       "(tensor([[ 3],\n",
       "         [12]]),\n",
       " torch.Size([2, 1]),\n",
       " tensor([[0.0000, 0.3333, 0.6667],\n",
       "         [0.2500, 0.3333, 0.4167]]))"
      ]
     },
     "execution_count": 22,
     "metadata": {},
     "output_type": "execute_result"
    }
   ],
   "source": [
    "suma, suma.shape, a/suma"
   ]
  },
  {
   "cell_type": "code",
   "execution_count": 41,
   "id": "ea17858f-0c61-47f8-b08b-1ff680dfc65d",
   "metadata": {},
   "outputs": [
    {
     "data": {
      "text/plain": [
       "(tensor(6), torch.Size([2, 3]), torch.Size([2, 3]), torch.Size([3, 2]))"
      ]
     },
     "execution_count": 41,
     "metadata": {},
     "output_type": "execute_result"
    }
   ],
   "source": [
    "# 点击\n",
    "d = torch.dot(torch.tensor([1,2,3]), torch.tensor([1,1,1]))\n",
    "d, a.shape, b.shape, b.T.shape"
   ]
  },
  {
   "cell_type": "code",
   "execution_count": 37,
   "id": "82c6de1a-d789-4852-9505-463887a1a3db",
   "metadata": {},
   "outputs": [
    {
     "data": {
      "text/plain": [
       "tensor(5.)"
      ]
     },
     "execution_count": 37,
     "metadata": {},
     "output_type": "execute_result"
    }
   ],
   "source": [
    "u = torch.norm(torch.tensor([3.0, 4.0]))\n",
    "u"
   ]
  },
  {
   "cell_type": "markdown",
   "id": "daa1128c-ff7c-49bf-9e9d-f170faea5797",
   "metadata": {},
   "source": [
    "# 维度 求和"
   ]
  },
  {
   "cell_type": "code",
   "execution_count": 44,
   "id": "8ea88294-3f46-4d5a-8391-a2fe3689aa8b",
   "metadata": {},
   "outputs": [
    {
     "data": {
      "text/plain": [
       "torch.Size([2, 5, 4])"
      ]
     },
     "execution_count": 44,
     "metadata": {},
     "output_type": "execute_result"
    }
   ],
   "source": [
    "a = torch.ones((2,5,4))\n",
    "a.shape"
   ]
  },
  {
   "cell_type": "code",
   "execution_count": 47,
   "id": "709c0bb4-dd20-4dd5-93ed-0772d074fa07",
   "metadata": {},
   "outputs": [
    {
     "data": {
      "text/plain": [
       "(torch.Size([2, 4]), torch.Size([5, 4]))"
      ]
     },
     "execution_count": 47,
     "metadata": {},
     "output_type": "execute_result"
    }
   ],
   "source": [
    "a.sum(axis=1).shape, a.sum(axis=0).shape"
   ]
  },
  {
   "cell_type": "code",
   "execution_count": 50,
   "id": "73049598-d0fe-4481-a358-0fa14e639570",
   "metadata": {},
   "outputs": [
    {
     "data": {
      "text/plain": [
       "torch.Size([2, 1, 4])"
      ]
     },
     "execution_count": 50,
     "metadata": {},
     "output_type": "execute_result"
    }
   ],
   "source": [
    "a.sum(axis=1, keepdims=True).shape"
   ]
  },
  {
   "cell_type": "code",
   "execution_count": 53,
   "id": "15b7714a-1d3d-4f75-a68e-ac9c8b82e0a1",
   "metadata": {},
   "outputs": [
    {
     "name": "stdout",
     "output_type": "stream",
     "text": [
      "torch.Size([1, 5, 1]) tensor([[[8.],\n",
      "         [8.],\n",
      "         [8.],\n",
      "         [8.],\n",
      "         [8.]]])\n"
     ]
    }
   ],
   "source": [
    "print(a.sum(axis=[0, 2], keepdims=True).shape, \n",
    "a.sum(axis=[0, 2], keepdims=True) )"
   ]
  },
  {
   "cell_type": "markdown",
   "id": "9c8443b3-4494-40d1-9c14-c743c281d840",
   "metadata": {},
   "source": [
    "# 自动求导"
   ]
  },
  {
   "cell_type": "code",
   "execution_count": 1,
   "id": "2a71d5b0-1840-4d94-a443-ec578d0bfbb6",
   "metadata": {},
   "outputs": [],
   "source": [
    "import torch"
   ]
  },
  {
   "cell_type": "code",
   "execution_count": 4,
   "id": "955c3363-80f1-4ea9-9e1e-9fbe7a9fddb3",
   "metadata": {},
   "outputs": [
    {
     "data": {
      "text/plain": [
       "tensor(28., grad_fn=<MulBackward0>)"
      ]
     },
     "execution_count": 4,
     "metadata": {},
     "output_type": "execute_result"
    }
   ],
   "source": [
    "x = torch.arange(4.0, requires_grad=True)\n",
    "# x.requires_grad(True)\n",
    "# x.grad  # 默认值 None\n",
    "y = 2 * torch.dot(x, x)\n",
    "y"
   ]
  },
  {
   "cell_type": "code",
   "execution_count": 5,
   "id": "d74590b0-c494-4bfc-ac86-9c9800d1c3ea",
   "metadata": {},
   "outputs": [
    {
     "data": {
      "text/plain": [
       "tensor([ 0.,  4.,  8., 12.])"
      ]
     },
     "execution_count": 5,
     "metadata": {},
     "output_type": "execute_result"
    }
   ],
   "source": [
    "y.backward()  # 求导\n",
    "x.grad"
   ]
  },
  {
   "cell_type": "code",
   "execution_count": 6,
   "id": "b198cf33-1783-4490-8c48-6e67dcea6b7d",
   "metadata": {},
   "outputs": [
    {
     "data": {
      "text/plain": [
       "tensor([True, True, True, True])"
      ]
     },
     "execution_count": 6,
     "metadata": {},
     "output_type": "execute_result"
    }
   ],
   "source": [
    "x.grad == 4 * x"
   ]
  },
  {
   "cell_type": "code",
   "execution_count": 8,
   "id": "9577c373-27c6-4458-be11-46c4a53eceb0",
   "metadata": {},
   "outputs": [
    {
     "data": {
      "text/plain": [
       "tensor([1., 1., 1., 1.])"
      ]
     },
     "execution_count": 8,
     "metadata": {},
     "output_type": "execute_result"
    }
   ],
   "source": [
    "# 默认情况下梯度会累积\n",
    "x.grad.zero_()\n",
    "y = x.sum()\n",
    "# y = x * x\n",
    "# y.sum().backward()\n",
    "y.backward()\n",
    "x.grad"
   ]
  },
  {
   "cell_type": "code",
   "execution_count": 9,
   "id": "6a948d93-338b-4ea5-83e5-a1999bf4d160",
   "metadata": {},
   "outputs": [
    {
     "data": {
      "text/plain": [
       "tensor([0., 1., 4., 9.])"
      ]
     },
     "execution_count": 9,
     "metadata": {},
     "output_type": "execute_result"
    }
   ],
   "source": [
    "# 将某些计算移动到计算图之外\n",
    "x.grad.zero_()\n",
    "y = x * x\n",
    "u = y.detach()  # 常数\n",
    "z = u * x\n",
    "z.sum().backward()\n",
    "x.grad"
   ]
  },
  {
   "cell_type": "code",
   "execution_count": null,
   "id": "f9884cde-d492-4126-9cac-4cb5b0062c52",
   "metadata": {},
   "outputs": [],
   "source": []
  }
 ],
 "metadata": {
  "kernelspec": {
   "display_name": "Python 3",
   "language": "python",
   "name": "python3"
  },
  "language_info": {
   "codemirror_mode": {
    "name": "ipython",
    "version": 3
   },
   "file_extension": ".py",
   "mimetype": "text/x-python",
   "name": "python",
   "nbconvert_exporter": "python",
   "pygments_lexer": "ipython3",
   "version": "3.6.8"
  }
 },
 "nbformat": 4,
 "nbformat_minor": 5
}
